{
 "cells": [
  {
   "cell_type": "markdown",
   "id": "1f02878f-39e9-415b-9965-8d91c51395bd",
   "metadata": {},
   "source": [
    "# Resum Python\n",
    "## (Part 2)\n",
    "## INDEX\n",
    "* ESTRUCTURES DE DADES (Cont)\n",
    "    *   CONJUNTS (SETS)\n",
    "    *   DICTIONARIES\n",
    "* ENTRADA/SORTIDA\n",
    "* TURTLE I RECURSIVITAT\n",
    "* EXCEPCIONS\n",
    "* PROGRAMACIÓ ORIENTADA A OBJECTES. \n",
    "*   CLASSES I OBJECTES\n",
    "*   HERENCIA\n",
    "* QUE FA I DE QUE DEPEN UN METODE\n",
    "* "
   ]
  },
  {
   "cell_type": "markdown",
   "id": "9ad87031-3084-48c2-8393-da32f7ec8346",
   "metadata": {},
   "source": [
    "## Estructures de Dades (Cont)\n",
    "### CONJUNTS (SETS)\n",
    "Els sets són conjunts no ordenats d'objectes no replicats."
   ]
  },
  {
   "cell_type": "code",
   "execution_count": 1,
   "id": "a58b5cd5-8a11-47b2-b1ce-b43e2c56ff68",
   "metadata": {},
   "outputs": [
    {
     "name": "stdout",
     "output_type": "stream",
     "text": [
      "set()\n",
      "{'a', 'p', 't'}\n",
      "{'llapis', 't', 'a', 23, 'p'}\n",
      "{'llapis', 't', 'a', 23, 'p'}\n",
      "True\n",
      "True\n",
      "False\n"
     ]
    }
   ],
   "source": [
    "\"\"\" El conjunt buit \"\"\"\n",
    "\n",
    "conj = set()\n",
    "print(conj)\n",
    "\n",
    "\n",
    "\"\"\" Un conjunt de caràcters. Els replicats només s'inclouen un cop. \"\"\"\n",
    "\n",
    "conj = set(\"patata\")\n",
    "print(conj)\n",
    "\n",
    "\n",
    "\"\"\" Els elements poden ser qualsevol objecte immutable \"\"\"\n",
    "\n",
    "conj.add(\"llapis\")\n",
    "conj.add(23)\n",
    "print(conj)\n",
    "\n",
    "\n",
    "\"\"\" No hi podem afegir llistes, ja que són mutables. \"\"\"\n",
    "\n",
    "#conj.add([3,7.1])\n",
    "\n",
    "\n",
    "\"\"\" Cardinal \"\"\"\n",
    "\n",
    "len(conj)\n",
    "print(conj)\n",
    "\n",
    "\"\"\" Pertinença \"\"\"\n",
    "\n",
    "print(23 in conj)\n",
    "print(\"p\" in conj)\n",
    "print(\"m\" in conj)\n",
    "\n"
   ]
  },
  {
   "cell_type": "markdown",
   "id": "99759bb2-874f-43ef-a4e6-68fefc9f35b4",
   "metadata": {},
   "source": [
    "Operacions amb conjunts. Unio |, Interseccio &, Diferencia -, Or exclusiva ^ "
   ]
  },
  {
   "cell_type": "code",
   "execution_count": 2,
   "id": "43ae00fa-724a-4638-baac-baffb7f3d23a",
   "metadata": {},
   "outputs": [
    {
     "name": "stdout",
     "output_type": "stream",
     "text": [
      "{'llapis', 23, 't', 'a', 12, 'p'}\n",
      "{'a', 'p'}\n",
      "{'llapis', 23, 't'}\n",
      "{'llapis', 't', 12, 23}\n"
     ]
    }
   ],
   "source": [
    "conj2 = {\"p\",\"a\",12}\n",
    "print(conj | conj2)\n",
    "print(conj & conj2)\n",
    "print(conj - conj2) \n",
    "print(conj ^ conj2)"
   ]
  },
  {
   "cell_type": "markdown",
   "id": "a58c06f8-148e-40e7-886e-ddb9aa99d6fa",
   "metadata": {},
   "source": [
    "Eliminar tots els elements"
   ]
  },
  {
   "cell_type": "code",
   "execution_count": 3,
   "id": "bf8b2b39-9266-4527-ad4d-d42c282ca0dc",
   "metadata": {},
   "outputs": [
    {
     "data": {
      "text/plain": [
       "set()"
      ]
     },
     "execution_count": 3,
     "metadata": {},
     "output_type": "execute_result"
    }
   ],
   "source": [
    "conj2.clear()\n",
    "conj2"
   ]
  },
  {
   "cell_type": "markdown",
   "id": "1db5dcb2-0c0f-44e7-812e-031f8ad1b392",
   "metadata": {},
   "source": [
    "## DICTIONARIES\n",
    "\n",
    "Un diccionari és una correspondencia (mapping) entre un conjunt de claus\n",
    "i una llista de valors. A cada clau li correspon un valor. Les claus no \n",
    "poden ser repetides, i les parelles no estan ordenades. Les claus han de \n",
    "ser immutables.\n",
    "\n",
    "### Construcció de diccionaris:"
   ]
  },
  {
   "cell_type": "code",
   "execution_count": 4,
   "id": "38b3df76-6951-4ac5-a410-ecd89a837200",
   "metadata": {},
   "outputs": [
    {
     "name": "stdout",
     "output_type": "stream",
     "text": [
      "{}\n",
      "{}\n",
      "{'clau1': 'valor1', 'clau2': 'valor2'}\n",
      "{'clau1': 'valor1', 'clau2': 'valor2'}\n",
      "{'clau1': 'valor1', 'clau2': 'valor2'}\n"
     ]
    }
   ],
   "source": [
    "dicc = {} # Diccionari buit\n",
    "print(dicc)\n",
    "dicc = dict()     \n",
    "print(dicc)\n",
    "\n",
    "dicc = {\"clau1\":\"valor1\",\"clau2\":\"valor2\"}    \n",
    "print(dicc)    \n",
    "dicc = dict([(\"clau1\",\"valor1\"),(\"clau2\",\"valor2\")])\n",
    "print(dicc)    \n",
    "dicc = dict(clau1=\"valor1\",clau2=\"valor2\")\n",
    "print(dicc)    \n",
    "\n",
    "\n"
   ]
  },
  {
   "cell_type": "markdown",
   "id": "6f3bdd5d-d60c-4c6a-95b2-830099294548",
   "metadata": {},
   "source": [
    "### Manipulant Diccionaris"
   ]
  },
  {
   "cell_type": "code",
   "execution_count": 5,
   "id": "1f9ee0f0-f1ef-4b51-9988-ab6d08d8b2d0",
   "metadata": {},
   "outputs": [
    {
     "name": "stdout",
     "output_type": "stream",
     "text": [
      "valor1\n"
     ]
    },
    {
     "ename": "KeyError",
     "evalue": "'clau3'",
     "output_type": "error",
     "traceback": [
      "\u001b[0;31m---------------------------------------------------------------------------\u001b[0m",
      "\u001b[0;31mKeyError\u001b[0m                                  Traceback (most recent call last)",
      "Cell \u001b[0;32mIn[5], line 4\u001b[0m\n\u001b[1;32m      1\u001b[0m \u001b[38;5;124;03m\"\"\" Accés a un valor \"\"\"\u001b[39;00m\n\u001b[1;32m      3\u001b[0m \u001b[38;5;28mprint\u001b[39m(dicc[\u001b[38;5;124m\"\u001b[39m\u001b[38;5;124mclau1\u001b[39m\u001b[38;5;124m\"\u001b[39m])\n\u001b[0;32m----> 4\u001b[0m \u001b[38;5;28mprint\u001b[39m(\u001b[43mdicc\u001b[49m\u001b[43m[\u001b[49m\u001b[38;5;124;43m\"\u001b[39;49m\u001b[38;5;124;43mclau3\u001b[39;49m\u001b[38;5;124;43m\"\u001b[39;49m\u001b[43m]\u001b[49m)\n\u001b[1;32m      6\u001b[0m \u001b[38;5;124;03m\"\"\" Afegir valors \"\"\"\u001b[39;00m\n\u001b[1;32m      8\u001b[0m variat\u001b[38;5;241m=\u001b[39m{}\n",
      "\u001b[0;31mKeyError\u001b[0m: 'clau3'"
     ]
    }
   ],
   "source": [
    "\n",
    "\"\"\" Accés a un valor \"\"\"\n",
    "\n",
    "print(dicc[\"clau1\"])\n",
    "print(dicc[\"clau3\"])\n",
    "\n",
    "\"\"\" Afegir valors \"\"\"\n",
    "\n",
    "variat={}\n",
    "variat[\"Pep\"]=[5,3,7]\n",
    "variat[12]=\"Hola\"\n",
    "print(variat)\n",
    "\n",
    "\"\"\" Verificar si una clau existeix \"\"\"\n",
    "\n",
    "print(\"clau2\" in variat)\n",
    "print(\"clau2\" in dicc)\n",
    "\n",
    "\"\"\" Borrar una entrada \"\"\"\n",
    "\n",
    "del variat[12]\n",
    "print(variat)\n",
    "\n",
    "\"\"\" Borrar un diccionari \"\"\"\n",
    "\n",
    "del variat\n",
    "variat"
   ]
  },
  {
   "cell_type": "markdown",
   "id": "efaa340a-5019-4a9c-9932-1ff4e68770eb",
   "metadata": {},
   "source": [
    "El mètode get(clau,defecte) verifica si clau existeix i retorna el seu valor.\n",
    "Si no existeix, però, crea una nova entrada amb la parella {clau:defecte}"
   ]
  },
  {
   "cell_type": "code",
   "execution_count": null,
   "id": "c1fa1674-46c8-48ae-a11a-fc0ca57c89e0",
   "metadata": {},
   "outputs": [],
   "source": [
    "\n",
    "dicc[\"clau3\"] = dicc.get(\"clau3\",0)\n",
    "dicc\n"
   ]
  },
  {
   "cell_type": "markdown",
   "id": "6bce170c-b431-41f8-add6-faf819db76c4",
   "metadata": {},
   "source": [
    "### Recorreguts de diccionaris"
   ]
  },
  {
   "cell_type": "code",
   "execution_count": null,
   "id": "896a458d-b68d-4f05-b5bc-3a4415e85a4e",
   "metadata": {},
   "outputs": [],
   "source": [
    "print(dicc.keys())\n",
    "print(dicc.values())\n",
    "print(dicc.items())\n",
    "\n",
    "for k in dicc:\n",
    "    print(k,dicc[k])\n",
    "\n",
    "for k,val in dicc.items():\n",
    "    print(k,val)\n"
   ]
  },
  {
   "cell_type": "markdown",
   "id": "bb963f9e-bd7a-4689-a842-346f62ecc475",
   "metadata": {},
   "source": [
    "## ENTRADA/SORTIDA\n",
    "\n",
    "Lectura/Escriptura d'un fitxer de texte\n"
   ]
  },
  {
   "cell_type": "code",
   "execution_count": null,
   "id": "4aa5c5f7-06fe-4e77-a175-4c589fba4873",
   "metadata": {},
   "outputs": [],
   "source": [
    "\"\"\" Lectura d'un fitxer de text. \"\"\"\n",
    "filename=\"prova.txt\"\n",
    "fin = open(filename)\n",
    "fin.readline\n",
    "\n",
    "\"\"\" o \"\"\"\n",
    "\n",
    "fin = open(filename)\n",
    "for line in fin:\n",
    "    line.strip()\n",
    "    \n",
    "\"\"\" Escriptura en un fitxer de text. \"\"\"\n",
    "\n",
    "fout = open(filename, \"w\")\n",
    "fout.write(line)\n",
    "fout.close()\n",
    "\n",
    "\"\"\" o \"\"\"\n",
    "with open(filename,\"w\") as fout:\n",
    "    fout.write(line)\n",
    "# Fa el close() automàticament\n",
    "\n"
   ]
  },
  {
   "cell_type": "markdown",
   "id": "90f8efc8-1149-4dc3-aea9-0da8a0cb099c",
   "metadata": {},
   "source": [
    "El mòdul pickle permet llegir i escriure dades \"a saco\" en un fitxer de bytes."
   ]
  },
  {
   "cell_type": "code",
   "execution_count": null,
   "id": "4f923b62-0598-488d-9129-38b00130c297",
   "metadata": {},
   "outputs": [],
   "source": [
    "import pickle\n",
    "\n",
    "dades = [1,(2,3),4,\"cinc\"]\n",
    "with open(\"tmp.txt\", 'wb') as fp:\n",
    "    pickle.dump(dades, fp)\n",
    "        \n",
    "with open (\"tmp.txt\", 'rb') as fp:\n",
    "    noves = pickle.load(fp)\n",
    "noves"
   ]
  },
  {
   "cell_type": "markdown",
   "id": "6fbc3aad-0879-40e9-a96d-877da5033843",
   "metadata": {},
   "source": [
    "## TURTLE I RECURSIVITAT\n",
    "https://docs.python.org/3/library/turtle.html"
   ]
  },
  {
   "cell_type": "code",
   "execution_count": null,
   "id": "1e765f24-09b8-4133-9db1-b5ae421ba06f",
   "metadata": {},
   "outputs": [],
   "source": [
    "from turtle import *\n",
    "\n",
    "for i in range(4):\n",
    "    fd(100)\n",
    "    right(90)\n",
    "done()\n",
    "    \n",
    "\"\"\" definim quadrat \"\"\"\n",
    "\n",
    "def quadrat(costat):\n",
    "    for i in range(4):\n",
    "        fd(costat)\n",
    "        right(90)\n",
    "\n",
    "\n",
    "from turtle import *\n",
    "quadrat(200)\n",
    "done()\n",
    "\n"
   ]
  },
  {
   "cell_type": "code",
   "execution_count": null,
   "id": "a83dce61-fda3-4b64-8471-a037ebd20790",
   "metadata": {},
   "outputs": [],
   "source": [
    "\"\"\" Una escala de 4 graons és un grao i una escala de 3 graons \"\"\"\n",
    "\n",
    "from turtle import *\n",
    "def grao(costat):\n",
    "    for i in range(4):\n",
    "        fd(costat)\n",
    "        right(90)\n",
    "\n",
    "def escala(costat,n):\n",
    "    grao(costat)\n",
    "    if n>1:\n",
    "        fd(costat)\n",
    "        escala(costat,n-1)\n",
    "\n",
    "lt(90)\n",
    "escala(100,4)\n",
    "done()\n"
   ]
  },
  {
   "cell_type": "markdown",
   "id": "dacbbb8b-dcf1-44c5-9981-dd84925fc042",
   "metadata": {},
   "source": [
    "## EXCEPCIONS\n",
    "\n",
    "Com generar una excepcio.\n"
   ]
  },
  {
   "cell_type": "code",
   "execution_count": null,
   "id": "5853df73-ab68-4992-aebd-c57aa82d5cf1",
   "metadata": {},
   "outputs": [],
   "source": [
    "num = -3\n",
    "if num < 0:\n",
    "    raise ValueError"
   ]
  },
  {
   "cell_type": "markdown",
   "id": "945c2575-9278-4c07-ace1-30c4e7b79abd",
   "metadata": {},
   "source": [
    "Com capturar-la"
   ]
  },
  {
   "cell_type": "code",
   "execution_count": null,
   "id": "fcf1ee87-ebb2-4af7-bae4-f3c1c627ff11",
   "metadata": {},
   "outputs": [],
   "source": [
    "while True:\n",
    "    try:\n",
    "        x = int(input(\"Please enter an integer: \"))\n",
    "        break\n",
    "    except ValueError:\n",
    "        print(\"Oops!  That was no valid integer.  Try again...\")\n",
    "print(x)\n"
   ]
  },
  {
   "cell_type": "markdown",
   "id": "c735e7dd-7e13-477e-a579-89d235b2d6f4",
   "metadata": {},
   "source": [
    "Excepcions definides per l'usuari (veure Classes)"
   ]
  },
  {
   "cell_type": "code",
   "execution_count": null,
   "id": "85cabc34-1eaf-4e50-a915-e8920e15dcd5",
   "metadata": {},
   "outputs": [],
   "source": [
    "class MyException(Exception):\n",
    "    pass\n",
    "\n",
    "\"\"\" Com generar-la \"\"\"\n",
    "\n",
    "num = -3\n",
    "if num < 0:\n",
    "    raise MyException(\"Valor negatiu!\")\n"
   ]
  },
  {
   "cell_type": "code",
   "execution_count": null,
   "id": "e1b8458b-9d55-4cfa-8d5b-fefa73133106",
   "metadata": {},
   "outputs": [],
   "source": [
    "\"\"\" Com capturar-la \"\"\"\n",
    "\n",
    "try:\n",
    "    raise MyException(\"Si o si\")\n",
    "except MyException as err:\n",
    "    print(\"Capturada: \",err)"
   ]
  },
  {
   "cell_type": "code",
   "execution_count": null,
   "id": "dc9c5eef-17ed-4367-a3b3-fd0aef79c492",
   "metadata": {},
   "outputs": [],
   "source": []
  }
 ],
 "metadata": {
  "kernelspec": {
   "display_name": "Python 3 (ipykernel)",
   "language": "python",
   "name": "python3"
  },
  "language_info": {
   "codemirror_mode": {
    "name": "ipython",
    "version": 3
   },
   "file_extension": ".py",
   "mimetype": "text/x-python",
   "name": "python",
   "nbconvert_exporter": "python",
   "pygments_lexer": "ipython3",
   "version": "3.11.8"
  }
 },
 "nbformat": 4,
 "nbformat_minor": 5
}
