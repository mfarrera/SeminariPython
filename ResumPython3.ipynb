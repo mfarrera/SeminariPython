{
 "cells": [
  {
   "cell_type": "markdown",
   "id": "8ac662d2-5fe0-4191-8d9f-b5091445a971",
   "metadata": {},
   "source": [
    "# Resum Python\n",
    "## (part 3)\n",
    "\n",
    "## PROGRAMACIÓ ORIENTADA A OBJECTES. CLASSES I OBJECTES\n",
    " \n",
    "Un objecte es una zona de memòria que té un estat i un comportament.\n",
    "L'estat és el valor actual de l'objecte, i el comportament és el conjunt\n",
    "d'operacions que es poden aplicar a l'objecte.\n",
    "\n",
    "L'estat són variables anomenades fields, i el comportament són unes funcions \n",
    "amb sintaxi especial, anomenades mètodes. Metodes i fields són els atributs\n",
    "d'un objecte.\n",
    "\n",
    "El cicle de vida d'un objecte es el següent:\n",
    "    - Es crea l'objecte i s'assigna un valor inicial als fields. L'adreça\n",
    "    o referència de l'objecte s'assigna a alguna variable.\n",
    "    - En diferents moments del programa, el valor dels fields es consulta o \n",
    "    modifica, mitjançant els mètodes de l'objecte.\n",
    "    - Quan no hi ha cap variable que apunta a l'objecte, l'objecte desapareix\n",
    "    i el gestor de memòria recicla l'espai que ocupava (garbagge collection).\n",
    "    \n",
    "Una classe es un fragment de CODI que descriu como són els objectes d'aquella\n",
    "classe. Les classes serveixen per definir nous tipus o estructures de dades.\n",
    "Qualsevol objecte pertany a una classe. \n",
    "\n",
    "Es diu que un objecte és una instància (un cas concret) de la classe a la qual\n",
    "pertany. \n",
    "\n",
    "La classe descriu els fields i els mètodes que tindran les seves instàncies.\n"
   ]
  },
  {
   "cell_type": "code",
   "execution_count": 1,
   "id": "91ab8aea-c339-48f7-9400-e9b759b07c02",
   "metadata": {},
   "outputs": [
    {
     "name": "stdout",
     "output_type": "stream",
     "text": [
      "<class 'list'>\n",
      "<class 'tuple'>\n",
      "<class 'str'>\n"
     ]
    }
   ],
   "source": [
    "\"\"\"Per saber a quina classe pertany un objecte tenim type():\"\"\"\n",
    "\n",
    "print(type([1,2,3]))\n",
    "print(type((1,2,3)))\n",
    "print(type(\"Hola\"))"
   ]
  },
  {
   "cell_type": "markdown",
   "id": "f86ddd27-6c3e-4d27-bb30-c8fce38e3a16",
   "metadata": {},
   "source": [
    "Per invocar un mètode d'un objecte s'escriu l'objecte, un punt, i el nom \n",
    "del mètode amb els seus arguments."
   ]
  },
  {
   "cell_type": "code",
   "execution_count": 2,
   "id": "5d986d44-7c14-4450-a8e8-7a1ecbcf6181",
   "metadata": {},
   "outputs": [
    {
     "name": "stdout",
     "output_type": "stream",
     "text": [
      "HOLA!\n"
     ]
    },
    {
     "data": {
      "text/plain": [
       "'Adeu!'"
      ]
     },
     "execution_count": 2,
     "metadata": {},
     "output_type": "execute_result"
    }
   ],
   "source": [
    "print(\"Hola!\".upper())\n",
    "cadena=\"ADEU!\"\n",
    "cadena.capitalize()"
   ]
  },
  {
   "cell_type": "markdown",
   "id": "362ccf6f-d06f-42be-8d01-13c9702e85b4",
   "metadata": {},
   "source": [
    "Hi ha un mètode especial per crear explicitament una instància nova. \n",
    "Es el metode constructor, i s'invoca amb el nom de la classe"
   ]
  },
  {
   "cell_type": "code",
   "execution_count": 3,
   "id": "13a102cf-d44f-473d-a14f-a77959d2d043",
   "metadata": {},
   "outputs": [
    {
     "name": "stdout",
     "output_type": "stream",
     "text": [
      "13\n",
      "13\n",
      "13\n"
     ]
    },
    {
     "data": {
      "text/plain": [
       "20"
      ]
     },
     "execution_count": 3,
     "metadata": {},
     "output_type": "execute_result"
    }
   ],
   "source": [
    "llista = list() # Crea una llista nova, buida en aquest cas.\n",
    "\n",
    "\"\"\" Per definir una classe nova \"\"\"\n",
    "\n",
    "class ClasseNum:\n",
    "    \"\"\" Defineix els fields i metodes de la classe. \"\"\"\n",
    "    def __init__(self,num):\n",
    "        \"\"\" Constructor, inicialitza els fields de la classe. \"\"\"\n",
    "        self.num = num\n",
    "    def __str__(self):\n",
    "        \"\"\" Converteix un objecte en un string. \"\"\"\n",
    "        return str(self.num)\n",
    "    def suma(self,other):\n",
    "        return self.num+other\n",
    "    \n",
    "    \n",
    "\"\"\" Per utilitzar la classe que acabem de definir. \"\"\"\n",
    "    \n",
    "objecte = ClasseNum(13) # Invoca el mètode __init__()\n",
    "cadena=str(objecte) # Invoca el mètode __str__()\n",
    "print(cadena)\n",
    "print(objecte)\n",
    "cadena = objecte.__str__()\n",
    "print(cadena)\n",
    "res = objecte.suma(7)\n",
    "res\n"
   ]
  },
  {
   "cell_type": "markdown",
   "id": "5e5ea56b-92b9-4cd1-8239-5f64132e0913",
   "metadata": {},
   "source": [
    "La invocació d'un mètode d'una classe es fa amb la sintaxi\n",
    "objecte.suma(par). Internament, la referència a objecte s'assigna\n",
    "al primer paràmetre, self, i la resta d'arguments (el 7), s'assignen \n",
    "successivament. self és una paraula reservada.\n",
    "\n",
    "El mètode __str__ es un mètode especial predefinit que implementa la versio\n",
    "de str() pròpia de la classe.\n",
    "\n",
    "El mètode __init__() és el mètode constructor, que inicialitza els fields\n",
    "de la classe. Per invocar-lo, des de fora, s'utilitza el nom de la classe.\n",
    "El primer paràmetre self és implicit: la referència a l'objecte nou que s'està \n",
    "construint i que s'assigna a la variable."
   ]
  },
  {
   "cell_type": "code",
   "execution_count": 5,
   "id": "1d3381e6-41cb-47e1-9307-66d2949a6459",
   "metadata": {},
   "outputs": [
    {
     "name": "stdout",
     "output_type": "stream",
     "text": [
      "True\n",
      "False\n"
     ]
    }
   ],
   "source": [
    "objecte = ClasseNum(13) # crea una instancia de la classe ClasseNum i li passa\n",
    "    # el valor inicial 13 del field. La referència al nou objecte s'assigna\n",
    "    # a la variable 'objecte'.\n",
    "    \n",
    "\"\"\" Comparació entre objectes \"\"\"\n",
    "\n",
    "var1 = ClasseNum(7)\n",
    "var2 = var1\n",
    "var3 = ClasseNum(7)\n",
    "\n",
    "print(var1 == var2)\n",
    "print(var1 == var3)\n"
   ]
  },
  {
   "cell_type": "markdown",
   "id": "e453e2a1-d822-4660-85c9-9d3bca7f8bf3",
   "metadata": {},
   "source": [
    "Donat que var1 i var3 són instancies de la classe ClasseNum, definida per\n",
    "nosaltres, Python no pot saber quan dos objectes són iguals. Així, per les classes\n",
    "definides per l'usuari, l'operador '==' compara les referències. \n",
    "\n",
    "Si volem que compari valors li hem d'explicar com fer-ho, redefinint el \n",
    "l'operador '==' mitjançant el mètode __eq__()"
   ]
  },
  {
   "cell_type": "code",
   "execution_count": 6,
   "id": "9a7687a5-0b45-4900-bc73-e87ef523e1ec",
   "metadata": {},
   "outputs": [
    {
     "name": "stdout",
     "output_type": "stream",
     "text": [
      "True\n",
      "True\n"
     ]
    }
   ],
   "source": [
    "class ClasseNum:\n",
    "    \"\"\" Defineix els fields i metodes de la classe. \"\"\"\n",
    "    def __init__(self,num):\n",
    "        \"\"\" Constructor, inicialitza els fields de la classe. \"\"\"\n",
    "        self.num = num\n",
    "    def __str__(self):\n",
    "        \"\"\" Converteix un objecte en un string. \"\"\"\n",
    "        return str(self.num)\n",
    "    def suma(self,other):\n",
    "        return self.num+other\n",
    "    def __eq__(self,other):\n",
    "        return self.num == other.num\n",
    "    \n",
    "var1 = ClasseNum(7)\n",
    "var2 = var1\n",
    "var3 = ClasseNum(7)\n",
    "\n",
    "print(var1 == var2)\n",
    "print(var1 == var3)\n"
   ]
  },
  {
   "cell_type": "markdown",
   "id": "f3269fcd-4c6d-4641-8f91-013734d5f645",
   "metadata": {},
   "source": [
    "### L'HERENCIA\n",
    "L'herència en programacio orientada a objectes s'utilitza principalment per ampliar  els atributs\n",
    "d'una classe definida prèviament, de manera que el codi en comú de la classe\n",
    "mare i la classe filla no s'hagi de reescriure."
   ]
  },
  {
   "cell_type": "code",
   "execution_count": 8,
   "id": "872e496e-2122-437e-98e0-1a79282f750d",
   "metadata": {},
   "outputs": [],
   "source": [
    "def ClasseMare():\n",
    "    \"\"\" Fields i mètodes de la classe mare. \"\"\"\n",
    "    \n",
    "def ClasseFilla(ClasseMare):\n",
    "    \"\"\" La classe filla hereda directament els fields i mètodes de la classe\n",
    "    mare, i implementa els propis. També por redefinir els mètodes de la classe\n",
    "    mare. \"\"\"\n",
    "    \n",
    "\"\"\" Un exemple:\n",
    "http://www.jesshamrick.com/2011/05/18/an-introduction-to-classes-and-inheritance-in-python/\n",
    "\"\"\"\n",
    "class Pet(object):\n",
    "    \n",
    "    def __init__(self, name, species):\n",
    "        self.name = name\n",
    "        self.species = species\n",
    "\n",
    "    def getName(self):\n",
    "        return self.name\n",
    "\n",
    "    def getSpecies(self):\n",
    "        return self.species\n",
    "\n",
    "    def __str__(self):\n",
    "        return \"%s is a %s\" % (self.name, self.species)\n",
    "\n",
    "class Dog(Pet):\n",
    "    \n",
    "    def __init__(self, name, chases_cats):\n",
    "        Pet.__init__(self, name, \"Dog\")\n",
    "        self.chases_cats = chases_cats\n",
    "\n",
    "    def chasesCats(self):\n",
    "        return self.chases_cats\n",
    "\n",
    "class Cat(Pet):\n",
    "    def __init__(self, name, hates_dogs):\n",
    "        Pet.__init__(self, name, \"Cat\")\n",
    "        self.hates_dogs = hates_dogs\n",
    "\n",
    "    def hatesDogs(self):\n",
    "        return self.hates_dogs\n"
   ]
  },
  {
   "cell_type": "markdown",
   "id": "bbc3b1ce-5b91-4ec0-96e2-e9da02698c7f",
   "metadata": {},
   "source": [
    "## QUE FA I DE QUE DEPEN UN METODE\n",
    "\n",
    "\n",
    "resultat = instancia.metode(params)\n",
    "\n",
    "Que pot fer un metode?\n",
    "\n",
    "- Retorna un resultat (per defecte retorna None)\n",
    "- Pot modificar l'objecte sobre el qual es invocat\n",
    "- Pot modificar els paràmetres (mutables)\n",
    "- Pot generar sortida de dades (si internament té un print o un write)\n",
    "- Pot generar (raise) una excepció\n",
    "\n",
    "De que depen el que fa un mètode?\n",
    "- Del valor de l'objecte sobre el qual es invocat\n",
    "- Del valor dels paràmetres que rep\n",
    "- Pot rebre entrada de dades (si internament té un input o un read)"
   ]
  },
  {
   "cell_type": "code",
   "execution_count": null,
   "id": "ba925b76-0ebc-4194-adc1-4753f5f2f51c",
   "metadata": {},
   "outputs": [],
   "source": []
  }
 ],
 "metadata": {
  "kernelspec": {
   "display_name": "Python 3 (ipykernel)",
   "language": "python",
   "name": "python3"
  },
  "language_info": {
   "codemirror_mode": {
    "name": "ipython",
    "version": 3
   },
   "file_extension": ".py",
   "mimetype": "text/x-python",
   "name": "python",
   "nbconvert_exporter": "python",
   "pygments_lexer": "ipython3",
   "version": "3.11.8"
  }
 },
 "nbformat": 4,
 "nbformat_minor": 5
}
