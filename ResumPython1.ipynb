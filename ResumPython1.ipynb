{
 "cells": [
  {
   "cell_type": "markdown",
   "id": "dda26676-2168-4632-8ff7-a7a223c52a01",
   "metadata": {
    "editable": true,
    "slideshow": {
     "slide_type": ""
    },
    "tags": []
   },
   "source": [
    "# Resum Python\n",
    "## (Part 1)\n",
    "Vikipèdia: “Python és un llenguatge de programació d'alt nivell i propòsit \n",
    "general molt utilitzat. Va ser creat per Guido van Rossum l'any 1991. \n",
    "La seva filosofia de disseny busca llegibilitat en el codi i la seva sintaxi \n",
    "permet als programadors expressar conceptes en menys línies de codi del que \n",
    "seria possible en llenguatges com C. També proveeix estructures per permetre \n",
    "programes més entenedors tant a petita com a gran escala.\n",
    "\n",
    "Python suporta diversos paradigmes de programació, incloent-hi programació \n",
    "orientada a objectes, imperativa i també funcional o procedimental. \n",
    "Presenta un sistema de tipificació dinàmic i una gestió de la memòria automàtica \n",
    "i té una gran i exhaustiva biblioteca estàndard....””\n"
   ]
  },
  {
   "cell_type": "markdown",
   "id": "af2b9f16-25c4-4153-a47e-e68be102dbd2",
   "metadata": {
    "editable": true,
    "slideshow": {
     "slide_type": ""
    },
    "tags": []
   },
   "source": [
    "## Index\n",
    "* Bibliografia\n",
    "* L'INTERPRET DE PYTHON\n",
    "* PYTHON NOTEBOOKS\n",
    "* EN PYTHON TOT SÓN OBJECTES. OBJECTES MUTABLES I IMMUTABLES.\n",
    "* TIPUS DE DADES ELEMENTALS i OPERACIONS ASSOCIADES\n",
    "* SENTÈNCIES ELEMENTALS\n",
    "* SENTÈNCIES ESTRUCTURADES, CONTROL DE FLUX (SELECCIÓ I ITERACIO)\n",
    "* DEFINICIÓ DE FUNCIONS.\n",
    "* ESTRUCTURES DE DADES\n",
    "*   STRINGS\n",
    "*   LLISTES\n",
    "*       LIST COMPREHENSIONS\n",
    "*   TUPLES\n",
    "* MODULS\n",
    "* PATH"
   ]
  },
  {
   "cell_type": "markdown",
   "id": "fd51d99d-7c0f-4594-8bd6-27f15a893b60",
   "metadata": {
    "editable": true,
    "slideshow": {
     "slide_type": ""
    },
    "tags": []
   },
   "source": [
    "## Bibliografia\n",
    "Bibliografia\n",
    "El llibre: Think Python, Allen Downey. Disponible en pdf.\n",
    "\n",
    "The Python Tutorial: https://docs.python.org/3/tutorial/index.html\n",
    "Tutorial interactiu: https://www.learnpython.org/  \n",
    "Tutorial que resumeix bé els detalls del llenguatge (operadors, etc): \n",
    "    https://www.tutorialspoint.com/python \n",
    "Tutorial de Google Developers, concis i precis:\n",
    "    https://developers.google.com/edu/python/introduction\n",
    "NumPy quickstart tutorial: https://docs.scipy.org/doc/numpy/user/quickstart.html\n",
    "Matplotlib tutorial: https://matplotlib.org/users/pyplot_tutorial.html"
   ]
  },
  {
   "cell_type": "markdown",
   "id": "50d569fa-d3ce-4884-88e3-01f16b8e8362",
   "metadata": {},
   "source": [
    "## Python Notebooks\n",
    "Aquesta pàgina que estas veient es diu python notebook, conté codi de python intercalat amb texte. Ha estat creada amb el package Jupyter Lab (o Jupyter Notebooks).\n",
    "És molt intuitiu de fer servir, la idea és que tu mateix vagis executant els trocets de codi per anar veient el funcionament del lleguatge. Alguns codis són erronis per a que tu els corregeixis."
   ]
  },
  {
   "cell_type": "markdown",
   "id": "077a658d-e929-4547-bdcc-920383b8da41",
   "metadata": {
    "editable": true,
    "slideshow": {
     "slide_type": ""
    },
    "tags": []
   },
   "source": [
    "## L'interpret de Python\n",
    "Python és un llenguatge interpretat. Això significa que, enlloc d’un compilador \n",
    "que tradueix tot un programa complet a llenguatge màquina, Python té un interpret \n",
    "que tradueix i executa sentència a sentència."
   ]
  },
  {
   "cell_type": "markdown",
   "id": "64d95694-c504-4f2b-b8a5-4043882f7059",
   "metadata": {
    "editable": true,
    "slideshow": {
     "slide_type": ""
    },
    "tags": []
   },
   "source": [
    "## A python tot són objectes. Objectes mutables i immutables\n",
    "Ja que es tracta d'un llenguatge interpretat, Python no declara el tipus de les variables, \n",
    "si no que les variables prenen valors d’un determinat tipus en el moment de l’execució. \n",
    "Per ex., sense cap declaració prèvia, si fem :"
   ]
  },
  {
   "cell_type": "code",
   "execution_count": 1,
   "id": "20e71dc8-e9d6-4b40-a7d5-d37a36b9ccff",
   "metadata": {
    "editable": true,
    "slideshow": {
     "slide_type": ""
    },
    "tags": []
   },
   "outputs": [
    {
     "data": {
      "text/plain": [
       "3"
      ]
     },
     "execution_count": 1,
     "metadata": {},
     "output_type": "execute_result"
    }
   ],
   "source": [
    "x = 3\n",
    "x"
   ]
  },
  {
   "cell_type": "markdown",
   "id": "f357d376-d665-44d2-ad06-94ac90aad6eb",
   "metadata": {
    "editable": true,
    "slideshow": {
     "slide_type": ""
    },
    "tags": []
   },
   "source": [
    "x pren un valor enter. Però si després fem:"
   ]
  },
  {
   "cell_type": "code",
   "execution_count": 2,
   "id": "3949a9bc-b709-4e01-a716-6c04cb1719e1",
   "metadata": {
    "editable": true,
    "slideshow": {
     "slide_type": ""
    },
    "tags": []
   },
   "outputs": [
    {
     "data": {
      "text/plain": [
       "True"
      ]
     },
     "execution_count": 2,
     "metadata": {},
     "output_type": "execute_result"
    }
   ],
   "source": [
    "x = True\n",
    "x"
   ]
  },
  {
   "cell_type": "markdown",
   "id": "2f368ffe-29f5-416e-a77f-278b22fcead7",
   "metadata": {
    "editable": true,
    "slideshow": {
     "slide_type": ""
    },
    "tags": []
   },
   "source": [
    "x pren un valor booleà.\n",
    "\n",
    "En Python tot són OBJECTES. Aquesta afirmació significa que qualsevol element del llenguatge (dades, funcions) ocupa una zona de memòria, i aquesta zona \n",
    "de memòria té una adreça, que és la que farem servir per accedir-hi.  \n",
    "Les variables de Python contenen referències als objectes.\n",
    "La REFERÈNCIA de cada objecte es pot determinar amb un identificador unívoc. \n",
    "Per conèixer l’identificador de l’objecte al qual es refereix una variable \n",
    "disposem de la funció predefinida del llenguatge id(). Si fem: "
   ]
  },
  {
   "cell_type": "code",
   "execution_count": 3,
   "id": "d384602e-e942-42f5-a816-b9668eb12dd1",
   "metadata": {
    "editable": true,
    "slideshow": {
     "slide_type": ""
    },
    "tags": []
   },
   "outputs": [
    {
     "data": {
      "text/plain": [
       "4352091856"
      ]
     },
     "execution_count": 3,
     "metadata": {},
     "output_type": "execute_result"
    }
   ],
   "source": [
    "x = 3\n",
    "id(x)"
   ]
  },
  {
   "cell_type": "code",
   "execution_count": 4,
   "id": "2779a5c9-c6d0-4b7b-9fc6-c914928f3876",
   "metadata": {
    "editable": true,
    "slideshow": {
     "slide_type": ""
    },
    "tags": []
   },
   "outputs": [
    {
     "data": {
      "text/plain": [
       "4352090784"
      ]
     },
     "execution_count": 4,
     "metadata": {},
     "output_type": "execute_result"
    }
   ],
   "source": [
    "x= True\n",
    "id(x)"
   ]
  },
  {
   "cell_type": "code",
   "execution_count": 5,
   "id": "e579c460-c6ae-4b2a-be86-c24aff33c9e7",
   "metadata": {
    "editable": true,
    "slideshow": {
     "slide_type": ""
    },
    "tags": []
   },
   "outputs": [
    {
     "data": {
      "text/plain": [
       "4352091856"
      ]
     },
     "execution_count": 5,
     "metadata": {},
     "output_type": "execute_result"
    }
   ],
   "source": [
    "x=3\n",
    "id(x)"
   ]
  },
  {
   "cell_type": "code",
   "execution_count": 6,
   "id": "9b6b2fd3-c1bb-43ca-9568-2e0074cc6c3f",
   "metadata": {
    "editable": true,
    "slideshow": {
     "slide_type": ""
    },
    "tags": []
   },
   "outputs": [
    {
     "data": {
      "text/plain": [
       "4"
      ]
     },
     "execution_count": 6,
     "metadata": {},
     "output_type": "execute_result"
    }
   ],
   "source": [
    "x=3+1\n",
    "x\n"
   ]
  },
  {
   "cell_type": "code",
   "execution_count": 7,
   "id": "f365a5f7-979c-4567-9dec-f5191fd7939b",
   "metadata": {
    "editable": true,
    "slideshow": {
     "slide_type": ""
    },
    "tags": []
   },
   "outputs": [
    {
     "data": {
      "text/plain": [
       "4352091888"
      ]
     },
     "execution_count": 7,
     "metadata": {},
     "output_type": "execute_result"
    }
   ],
   "source": [
    "id(x)"
   ]
  },
  {
   "cell_type": "markdown",
   "id": "87a2cb40-5729-4cf1-9252-5405c57f0879",
   "metadata": {
    "editable": true,
    "slideshow": {
     "slide_type": ""
    },
    "tags": []
   },
   "source": [
    "Amb aquest exemple veiem que el valor enter 3 és un objecte que està en una posició de memòria que té com a identificador un numero semblant a 4346437944 (id1). I que el valor resultant\n",
    "de sumar 3+1, és quatre, i és un objecte que està en una posició que té com amb un identificador diferent al primer. Similarment, l'objecte True té també un altre identificador.\n",
    "\n",
    "Fixeu-vos doncs que la variable x no desa el valor de la dada, sino la referència de l'objecte on està la dada, identificada pel seu id()\n",
    "\n",
    "Les dades d'aquest exemple són IMMUTABLES. Això significa que el valor de \n",
    "l'objecte 3 NO es pot modificar. Si fem 3+1, el que obtenim és un nou objecte \n",
    "amb valor 4.\n",
    "\n",
    "Més endavant veurem exemples de dades MUTABLES (que si que es poden modificar)."
   ]
  },
  {
   "cell_type": "markdown",
   "id": "1b627519-e1c6-4749-8eff-475ad5abcbda",
   "metadata": {
    "editable": true,
    "slideshow": {
     "slide_type": ""
    },
    "tags": []
   },
   "source": [
    "## Tipus de dades i operacions associades.\n",
    "\n",
    "La comparació entre variables en Python es pot fer de dos maneres. L'operador\n",
    "'is' indica si les dos variables apunten al mateix objecte, i l'operador '==' indica\n",
    "si el valor dels objectes apuntats és el mateix. El més freqüent es comparar\n",
    "valors, que ho farem amb '=='.\n",
    "\n",
    "NOTA IMPORTANT (per a quan parlem de classes, mes endavant): L'operador '=='\n",
    "aplicat a instàncies de classes definides per l'usuari NO compara els objectes,\n",
    "sino les adreces. Per fer-ho cal redefinir-lo.\n",
    "\n",
    "Una expressió és qualsevol combinació legal de constants, variables,\n",
    "operadors, funcions i mètodes  que té un valor i un tipus.\n",
    "\n",
    "La constant **None** indica que una expressió té un valor nul, i no es de cap tipus concret.\n",
    "\n",
    "El tipus bool te com a constants els valors **True, False** i els operadors principals son **and, or, not,** i els operadors relacionals **==,!=,<,<=,** etc. Exemple:\n"
   ]
  },
  {
   "cell_type": "code",
   "execution_count": 9,
   "id": "d7e8a8ab-9e16-4324-90bd-81ec05fdd0f6",
   "metadata": {
    "editable": true,
    "slideshow": {
     "slide_type": ""
    },
    "tags": []
   },
   "outputs": [
    {
     "data": {
      "text/plain": [
       "False"
      ]
     },
     "execution_count": 9,
     "metadata": {},
     "output_type": "execute_result"
    }
   ],
   "source": [
    "False < True\n",
    "False ==True"
   ]
  },
  {
   "cell_type": "markdown",
   "id": "02e77746-c8b6-487f-af9c-457351789563",
   "metadata": {
    "editable": true,
    "slideshow": {
     "slide_type": ""
    },
    "tags": []
   },
   "source": [
    "No s'ha de confondre els operadors booleans amb els operadors de bits ** &, |, !, ^ # (^ or-exclusiva)**.\n",
    "Els tipus de dades numerics en Python son: **int, long, float, complex**\n",
    "\n",
    "Els tipus numèrics tenen els operadors aritmètics habituals, \n",
    "amb  \\'**' potenciació, '//' divisió entera i '%' residu de la divisió entera.\n",
    "\n",
    "La llibreria matemàtica math té moltes funcions bàsiques tant per a enters\n",
    "com per a floats"
   ]
  },
  {
   "cell_type": "code",
   "execution_count": 9,
   "id": "e94c760e-d04d-44b7-ac8d-da6e4835d56f",
   "metadata": {
    "editable": true,
    "slideshow": {
     "slide_type": ""
    },
    "tags": []
   },
   "outputs": [
    {
     "ename": "NameError",
     "evalue": "name 'sin' is not defined",
     "output_type": "error",
     "traceback": [
      "\u001b[0;31m---------------------------------------------------------------------------\u001b[0m",
      "\u001b[0;31mNameError\u001b[0m                                 Traceback (most recent call last)",
      "Cell \u001b[0;32mIn[9], line 1\u001b[0m\n\u001b[0;32m----> 1\u001b[0m \u001b[43msin\u001b[49m(\u001b[38;5;241m3.14\u001b[39m\u001b[38;5;241m/\u001b[39m\u001b[38;5;241m2\u001b[39m)\n",
      "\u001b[0;31mNameError\u001b[0m: name 'sin' is not defined"
     ]
    }
   ],
   "source": [
    "sin(3.14/2)"
   ]
  },
  {
   "cell_type": "code",
   "execution_count": 10,
   "id": "ea81d339-52bf-4188-ac7e-a572f449de9f",
   "metadata": {},
   "outputs": [
    {
     "data": {
      "text/plain": [
       "1.0"
      ]
     },
     "execution_count": 10,
     "metadata": {},
     "output_type": "execute_result"
    }
   ],
   "source": [
    "import math\n",
    "math.sin(math.pi/2)"
   ]
  },
  {
   "cell_type": "markdown",
   "id": "e00d0e6b-a55e-4999-a8b5-ab73fe022a22",
   "metadata": {},
   "source": [
    "Per complexes:"
   ]
  },
  {
   "cell_type": "code",
   "execution_count": 11,
   "id": "c67d6e56-f121-4f7f-8722-69145b226fd8",
   "metadata": {},
   "outputs": [
    {
     "data": {
      "text/plain": [
       "-0.0"
      ]
     },
     "execution_count": 11,
     "metadata": {},
     "output_type": "execute_result"
    }
   ],
   "source": [
    "import cmath # Complex math\n",
    "z=-3j\n",
    "z.real"
   ]
  },
  {
   "cell_type": "code",
   "execution_count": 12,
   "id": "22fc7674-1ada-417e-93d2-1d602ef953a1",
   "metadata": {},
   "outputs": [
    {
     "data": {
      "text/plain": [
       "-3.0"
      ]
     },
     "execution_count": 12,
     "metadata": {},
     "output_type": "execute_result"
    }
   ],
   "source": [
    "z.imag"
   ]
  },
  {
   "cell_type": "code",
   "execution_count": 13,
   "id": "21c55be9-28c5-4737-a0b7-460435aa3374",
   "metadata": {},
   "outputs": [
    {
     "data": {
      "text/plain": [
       "3.0"
      ]
     },
     "execution_count": 13,
     "metadata": {},
     "output_type": "execute_result"
    }
   ],
   "source": [
    "abs(z)"
   ]
  },
  {
   "cell_type": "code",
   "execution_count": 14,
   "id": "624886f2-fabf-4e25-bef4-d74579ba973a",
   "metadata": {},
   "outputs": [
    {
     "data": {
      "text/plain": [
       "-1.5707963267948966"
      ]
     },
     "execution_count": 14,
     "metadata": {},
     "output_type": "execute_result"
    }
   ],
   "source": [
    "cmath.phase(z)"
   ]
  },
  {
   "cell_type": "markdown",
   "id": "f54f1f49-3b38-48e0-aad6-094daf355cc4",
   "metadata": {},
   "source": [
    "El valor d'una expressió es pot mostrar simplement escrivint l'expressió a la \n",
    "linia de comandes de l'intèrpret (o al notebook) com hem fet fins ara, o mitjançant la funció print():"
   ]
  },
  {
   "cell_type": "code",
   "execution_count": 15,
   "id": "a9311498-d05e-44ad-8e55-3017048042dc",
   "metadata": {},
   "outputs": [
    {
     "name": "stdout",
     "output_type": "stream",
     "text": [
      "3\n"
     ]
    }
   ],
   "source": [
    "x=3\n",
    "print(x)"
   ]
  },
  {
   "cell_type": "code",
   "execution_count": 16,
   "id": "c2426d7c-a70a-492f-bb63-25c168bab220",
   "metadata": {},
   "outputs": [
    {
     "name": "stdout",
     "output_type": "stream",
     "text": [
      "(-0-3j)\n"
     ]
    }
   ],
   "source": [
    "print(z)"
   ]
  },
  {
   "cell_type": "markdown",
   "id": "b167bca9-7c0d-4fae-8d93-af22e3a3b03a",
   "metadata": {},
   "source": [
    "El tipus d'una expressió es pot consultar amb la funció type()"
   ]
  },
  {
   "cell_type": "code",
   "execution_count": 17,
   "id": "f7ca7032-2197-48bc-8b26-50010f450848",
   "metadata": {},
   "outputs": [
    {
     "name": "stdout",
     "output_type": "stream",
     "text": [
      "<class 'int'>\n",
      "<class 'int'>\n",
      "<class 'int'>\n",
      "<class 'complex'>\n",
      "<class 'NoneType'>\n"
     ]
    }
   ],
   "source": [
    "print(type(3))\n",
    "print(type(x))\n",
    "print(type(3+1))\n",
    "z=3+2j\n",
    "print(type (z))\n",
    "print(type(None))"
   ]
  },
  {
   "cell_type": "markdown",
   "id": "afdfca37-57ac-4cf4-9bd7-98af604551a8",
   "metadata": {},
   "source": [
    "## Sentències elementals\n",
    "\n",
    "Les sentències elementals són l'assignació i la crida a funcions i mètodes.\n",
    "La sentència d'assignació avalua una expressió (calcula un objecte) i assigna\n",
    "la seva referència a una variable."
   ]
  },
  {
   "cell_type": "code",
   "execution_count": null,
   "id": "9122525e-58d6-4694-a877-8ef1b38c6017",
   "metadata": {},
   "outputs": [],
   "source": [
    "n = 10"
   ]
  },
  {
   "cell_type": "markdown",
   "id": "1ac7da3f-ae95-4d39-8631-81f1d5479102",
   "metadata": {},
   "source": [
    "En Python existeix l'assignació MULTIPLE que permet avaluar i assignar més\n",
    "d'una expressió en una sola sentència."
   ]
  },
  {
   "cell_type": "code",
   "execution_count": null,
   "id": "09906e6e-9863-4920-8271-3a849850d1a4",
   "metadata": {},
   "outputs": [],
   "source": [
    "x, y = 3, \"Hola!\"\n",
    "x\n",
    "y"
   ]
  },
  {
   "cell_type": "markdown",
   "id": "4dd1a980-a00b-40ac-b7c0-f67f4e2a5744",
   "metadata": {},
   "source": [
    "La crida a funcions és com en C o Java. Es crida la funció i se li passen\n",
    "els paràmetres."
   ]
  },
  {
   "cell_type": "code",
   "execution_count": null,
   "id": "90805a6f-237c-4992-959d-ce660739c9bc",
   "metadata": {},
   "outputs": [],
   "source": [
    "math.sin(math.pi)"
   ]
  },
  {
   "cell_type": "markdown",
   "id": "dbed0a1b-3bbd-40a1-ae52-f866a881ba51",
   "metadata": {},
   "source": [
    "La invocació de mètodes és com en Java: cal un objecte de la classe\n",
    "per invocar el mètode sobre l'objecte (en parlarem més endavant)."
   ]
  },
  {
   "cell_type": "code",
   "execution_count": null,
   "id": "772f42db-c48c-40f9-94c0-ab359d227f9c",
   "metadata": {},
   "outputs": [],
   "source": [
    "nom = \"Ramon\"\n",
    "maj= nom.upper()\n",
    "maj"
   ]
  },
  {
   "cell_type": "markdown",
   "id": "d4589d65-ad59-4899-af16-e259fa71fd97",
   "metadata": {},
   "source": [
    "## Sentències estructurades, control de flux (selecció i iteració)\n",
    "Les sentències de control de flux principals en Python són les següents:\n",
    "La selecció és if-elif-else: **Fixa't que és la INDENTACIÓ del text qui delimita les clausules**"
   ]
  },
  {
   "cell_type": "code",
   "execution_count": null,
   "id": "5cb9e207-0817-47b3-94ef-38ffe353656f",
   "metadata": {},
   "outputs": [],
   "source": [
    "x=5\n",
    "if 0 <= x < 5:\n",
    "    print(\"Petit\")\n",
    "elif 5 <= x < 7:\n",
    "    print(\"Mitja\")\n",
    "else:\n",
    "    print(\"Gran\")"
   ]
  },
  {
   "cell_type": "markdown",
   "id": "17176ad8-01d0-4424-8f4d-4dd2f696062b",
   "metadata": {},
   "source": [
    "Per la iteracio tenim **for** i **while**.\n",
    "L'operador **in** verifica pertinència. \n",
    "range(5) és la successió de valors entre 0 i 4"
   ]
  },
  {
   "cell_type": "code",
   "execution_count": null,
   "id": "dae3a872-2bbf-43db-94d6-79201c36e8a2",
   "metadata": {
    "scrolled": true
   },
   "outputs": [],
   "source": [
    "for n in range(5):\n",
    "    print(n)"
   ]
  },
  {
   "cell_type": "code",
   "execution_count": null,
   "id": "d7c36d8c-bc3f-4a48-a421-83a6486ec74a",
   "metadata": {},
   "outputs": [],
   "source": [
    "comanda = input(\"> \")\n",
    "while comanda != \"fi\":\n",
    "    comanda = input(\"> \")"
   ]
  },
  {
   "cell_type": "markdown",
   "id": "d422f8e4-e6e2-445a-8b9a-0cf3a17455e8",
   "metadata": {},
   "source": [
    "Com en c, **break** i **continue** trenquen el bucle o tornen al principi, \n",
    "respectivament"
   ]
  },
  {
   "cell_type": "code",
   "execution_count": 13,
   "id": "0d79048e-64b7-4905-a837-7b1194dd8e79",
   "metadata": {},
   "outputs": [
    {
     "name": "stdout",
     "output_type": "stream",
     "text": [
      "0\n",
      "5\n",
      "10\n",
      "11\n"
     ]
    }
   ],
   "source": [
    "for n in range(100):\n",
    "    if n%5 == 0:\n",
    "        print(n)\n",
    "        continue\n",
    "    if n%11 == 0:\n",
    "        print(n)\n",
    "        break"
   ]
  },
  {
   "cell_type": "markdown",
   "id": "4a721734-f7ec-4150-82d9-22d1d701e14d",
   "metadata": {},
   "source": [
    "La sentència **pass** és útil quan estem a mig construir un codi que requereix \n",
    " sintàcticament indentacio:"
   ]
  },
  {
   "cell_type": "code",
   "execution_count": 14,
   "id": "cb962967-9748-4297-b171-634d25a86bfc",
   "metadata": {},
   "outputs": [
    {
     "ename": "NameError",
     "evalue": "name 'condicio_provisional' is not defined",
     "output_type": "error",
     "traceback": [
      "\u001b[0;31m---------------------------------------------------------------------------\u001b[0m",
      "\u001b[0;31mNameError\u001b[0m                                 Traceback (most recent call last)",
      "Cell \u001b[0;32mIn[14], line 1\u001b[0m\n\u001b[0;32m----> 1\u001b[0m \u001b[38;5;28;01mif\u001b[39;00m \u001b[43mcondicio_provisional\u001b[49m:\n\u001b[1;32m      2\u001b[0m     \u001b[38;5;28;01mpass\u001b[39;00m\n",
      "\u001b[0;31mNameError\u001b[0m: name 'condicio_provisional' is not defined"
     ]
    }
   ],
   "source": [
    "if condicio_provisional:\n",
    "    pass"
   ]
  },
  {
   "cell_type": "markdown",
   "id": "d4a50761-f0fb-4d65-a76e-74642a2a0b24",
   "metadata": {},
   "source": [
    "## DEFINICIÓ DE FUNCIONS.\n",
    "Les funcions en Python es defineixen amb la paraula **def**. Fixa't que no cal declarar explícitament el tipus del paràmetre, però ha de ser coherent amb el que fem amb ell (en aquest cas, sumar-li un).\n",
    "Al fer el pas de paràmetres Python COPIA LA REFERÈNCIA de l'objecte 3 al paràmetre num. \n",
    "\n",
    "Quan els paràmetres són immutables, qualsevol modificació que fessim a un d'ells no tindrà efectes a l'exterior. Veiem un parell d'exemples:"
   ]
  },
  {
   "cell_type": "code",
   "execution_count": 15,
   "id": "4c1187eb-bfc8-41b9-b9b9-e1214888b6e7",
   "metadata": {},
   "outputs": [
    {
     "ename": "TypeError",
     "evalue": "can only concatenate str (not \"int\") to str",
     "output_type": "error",
     "traceback": [
      "\u001b[0;31m---------------------------------------------------------------------------\u001b[0m",
      "\u001b[0;31mTypeError\u001b[0m                                 Traceback (most recent call last)",
      "Cell \u001b[0;32mIn[15], line 6\u001b[0m\n\u001b[1;32m      3\u001b[0m     \u001b[38;5;28;01mreturn\u001b[39;00m num\u001b[38;5;241m+\u001b[39m\u001b[38;5;241m1\u001b[39m\n\u001b[1;32m      5\u001b[0m suma_li_un(\u001b[38;5;241m3\u001b[39m)\n\u001b[0;32m----> 6\u001b[0m \u001b[43msuma_li_un\u001b[49m\u001b[43m(\u001b[49m\u001b[38;5;124;43m\"\u001b[39;49m\u001b[38;5;124;43mHola\u001b[39;49m\u001b[38;5;124;43m\"\u001b[39;49m\u001b[43m)\u001b[49m\n",
      "Cell \u001b[0;32mIn[15], line 3\u001b[0m, in \u001b[0;36msuma_li_un\u001b[0;34m(num)\u001b[0m\n\u001b[1;32m      1\u001b[0m \u001b[38;5;28;01mdef\u001b[39;00m \u001b[38;5;21msuma_li_un\u001b[39m(num):\n\u001b[1;32m      2\u001b[0m \u001b[38;5;250m    \u001b[39m\u001b[38;5;124;03m\"\"\"Suma 1 a num\"\"\"\u001b[39;00m\n\u001b[0;32m----> 3\u001b[0m     \u001b[38;5;28;01mreturn\u001b[39;00m \u001b[43mnum\u001b[49m\u001b[38;5;241;43m+\u001b[39;49m\u001b[38;5;241;43m1\u001b[39;49m\n",
      "\u001b[0;31mTypeError\u001b[0m: can only concatenate str (not \"int\") to str"
     ]
    }
   ],
   "source": [
    "def suma_li_un(num):\n",
    "    \"\"\"Suma 1 a num\"\"\"\n",
    "    return num+1\n",
    "\n",
    "suma_li_un(3)\n",
    "suma_li_un(\"Hola\")"
   ]
  },
  {
   "cell_type": "code",
   "execution_count": 16,
   "id": "af5a12b0-ca4f-46f4-8278-e32c99326f0c",
   "metadata": {},
   "outputs": [
    {
     "name": "stdout",
     "output_type": "stream",
     "text": [
      "s1 =  Pep Ruiz\n",
      "Pep  Ruiz Pep Ruiz\n"
     ]
    }
   ],
   "source": [
    "def concatena(s1,s2):\n",
    "    \"\"\"Concatena dos strings\"\"\"\n",
    "    s1 += s2\n",
    "    print (\"s1 = \",s1)\n",
    "    return s1\n",
    "\n",
    "nom = \"Pep \"\n",
    "cognom = \"Ruiz\"\n",
    "tot = concatena(nom,cognom)\n",
    "print(nom,cognom,tot)"
   ]
  },
  {
   "cell_type": "markdown",
   "id": "2c17d8ff-c8f8-43cd-a5c3-fb58a86c332b",
   "metadata": {},
   "source": [
    "Quan cridem a la funció, nom conté la referència a l'objecte \"Pep\".\n",
    "Al fer el pas de paràmetres, aquesta referència es copia a s1. Internament,\n",
    "s1 es modifica. Com que els string són immutables, ara s1 apunta a un NOU objecte\n",
    "que te com a valor \"Pep Ruiz\", però externament nom segueix apuntant a \"Pep\".\n",
    "La funció retorna la referència de l'objecte \"Pep Ruiz\" que, externament,\n",
    "s'assigna a la variable tot.\n",
    "\n",
    "Totes les funcions retornen alguna cosa. Si no apareix explícitament\n",
    "la sentència return, la funció retorna None.\n",
    "\n",
    "Sota del nom d'una funció és recomanable posar un comentari (docstring)\n",
    "explicant què fa. Després aquest comentari surt a l'ajuda.\n",
    "\n",
    "El pas de paràmetres també es pot fer fent servir el nom de l'argument com \n",
    "a paraula clau (keyword arguments). \n",
    "\n",
    "Els parametres amb paraula clau poden pendre un valor per defecte, fet que ens permet tenir funcions amb parametres opcionals, si quan crido la funció no indico el valor del paràmetre, aquest prendrà el valor per defecte."
   ]
  },
  {
   "cell_type": "code",
   "execution_count": 20,
   "id": "cceeff3b-a6b1-437c-a2d5-de444239b303",
   "metadata": {},
   "outputs": [
    {
     "name": "stdout",
     "output_type": "stream",
     "text": [
      "4\n",
      "5\n"
     ]
    },
    {
     "data": {
      "text/plain": [
       "8"
      ]
     },
     "execution_count": 20,
     "metadata": {},
     "output_type": "execute_result"
    }
   ],
   "source": [
    "print(suma_li_un(num=3))\n",
    "\n",
    "def suma_li(num1,num2=2):\n",
    "    return num1+num2\n",
    "\n",
    "print(suma_li(3)) # Per defecte num2 val 2\n",
    "\n",
    "suma_li(3,num2=5) # Fem explícit el valor de num2"
   ]
  },
  {
   "cell_type": "markdown",
   "id": "746405c1-8a76-403f-9b86-f33f5ce00477",
   "metadata": {},
   "source": [
    "Com a característica avançada es poden definir funcions amb un nombre variable de parametres."
   ]
  },
  {
   "cell_type": "code",
   "execution_count": 21,
   "id": "41bc8f4f-6147-45d1-9adb-a3e9c55c47ac",
   "metadata": {},
   "outputs": [],
   "source": [
    "def nom_funcio(*args,**kwargs):\n",
    "    pass"
   ]
  },
  {
   "cell_type": "markdown",
   "id": "d3fe54dc-c88d-4604-bacf-bb5bfe38136a",
   "metadata": {},
   "source": [
    "## Estructures de dades\n",
    "### Strings\n",
    "Els strings són seqüències de caràcters. Un caràcter és una string de longitud 1.\n",
    "Els strings de Python són immutables. Les constants literals es poden\n",
    "delimitar amb ', 'Hola' o \", \"Hola\", indistintament.\"\"\"\n",
    "\"\"\" Tres \" son strings llargues que accepten salts de linia (\\n). Es poden\n",
    "fer servir com comentaris llargs."
   ]
  },
  {
   "cell_type": "code",
   "execution_count": 26,
   "id": "e2b8824d-3928-4377-a7aa-9cd2b5ff2391",
   "metadata": {},
   "outputs": [
    {
     "name": "stdout",
     "output_type": "stream",
     "text": [
      "Hola!\n"
     ]
    },
    {
     "name": "stdin",
     "output_type": "stream",
     "text": [
      "Nom?  m\n"
     ]
    },
    {
     "name": "stdout",
     "output_type": "stream",
     "text": [
      "Hola m\n",
      "Hola m\n",
      "Hola Joan i Joana\n"
     ]
    },
    {
     "name": "stdin",
     "output_type": "stream",
     "text": [
      "Edat?  78\n"
     ]
    },
    {
     "name": "stdout",
     "output_type": "stream",
     "text": [
      "78\n"
     ]
    },
    {
     "data": {
      "text/plain": [
       "5"
      ]
     },
     "execution_count": 26,
     "metadata": {},
     "output_type": "execute_result"
    }
   ],
   "source": [
    "print(\"Hola!\") # Mostra a pantalla\n",
    "\n",
    "nom = input(\"Nom? \") # Pregunta i llegeix de teclat\n",
    "\n",
    "print(\"Hola\",nom)\n",
    "\n",
    "print(\"Hola \"+nom) # Fixa't en l'espai i la suma de strings +\n",
    "\n",
    "print(\"Hola %s i %s\" % (\"Joan\",\"Joana\")) # Formateig d'strings amb %\n",
    "\n",
    "edat = input(\"Edat? \")\n",
    "edat   # els caracters numerics\n",
    "print(int(edat))  # el numero que formen els caracters junts\n",
    "\n",
    "nom = \"Joana\"\n",
    "len(nom)"
   ]
  },
  {
   "cell_type": "markdown",
   "id": "72c795e4-3e22-47c2-8bbe-e70d5385926b",
   "metadata": {},
   "source": [
    "Els strings es poden indexar, caracter a caracter o per \"llesques\" (slices). Observeu les següents sentències i afegiu printfs per comprovar que el resultat és el que espereu.\n"
   ]
  },
  {
   "cell_type": "code",
   "execution_count": 28,
   "id": "cc97ce4b-f8c9-47c0-b9c0-dcce9802e44b",
   "metadata": {},
   "outputs": [
    {
     "data": {
      "text/plain": [
       "'Joana'"
      ]
     },
     "execution_count": 28,
     "metadata": {},
     "output_type": "execute_result"
    }
   ],
   "source": [
    "\"Joana\"[1]\n",
    "\n",
    "inicial = nom[0]\n",
    "inicial\n",
    "\n",
    "nom[0:3] # De 0 a 2\n",
    "\n",
    "ppi=1\n",
    "fi=4\n",
    "nom[ppi:fi]\n",
    "\n",
    "nom[2:]\n",
    "\n",
    "nom[:fi]\n",
    "\n",
    "nom[:]"
   ]
  },
  {
   "cell_type": "markdown",
   "id": "edb884a2-71c7-47d0-9510-f420aebeb2df",
   "metadata": {},
   "source": [
    "No es pot canviar el valor d'un strign (son immmutables), cal construir-ne un de nou "
   ]
  },
  {
   "cell_type": "code",
   "execution_count": 29,
   "id": "798f6f9d-d5f9-42e4-b7c5-5afab364bc5d",
   "metadata": {},
   "outputs": [
    {
     "ename": "TypeError",
     "evalue": "'str' object does not support item assignment",
     "output_type": "error",
     "traceback": [
      "\u001b[0;31m---------------------------------------------------------------------------\u001b[0m",
      "\u001b[0;31mTypeError\u001b[0m                                 Traceback (most recent call last)",
      "Cell \u001b[0;32mIn[29], line 1\u001b[0m\n\u001b[0;32m----> 1\u001b[0m \u001b[43mnom\u001b[49m\u001b[43m[\u001b[49m\u001b[38;5;241;43m0\u001b[39;49m\u001b[43m]\u001b[49m\u001b[38;5;241m=\u001b[39m\u001b[38;5;124m'\u001b[39m\u001b[38;5;124mH\u001b[39m\u001b[38;5;124m'\u001b[39m\n\u001b[1;32m      2\u001b[0m nom_nou \u001b[38;5;241m=\u001b[39m \u001b[38;5;124m\"\u001b[39m\u001b[38;5;124mH\u001b[39m\u001b[38;5;124m\"\u001b[39m\u001b[38;5;241m+\u001b[39mnom[\u001b[38;5;241m1\u001b[39m:]\n",
      "\u001b[0;31mTypeError\u001b[0m: 'str' object does not support item assignment"
     ]
    }
   ],
   "source": [
    "nom[0]='H'\n",
    "nom_nou = \"H\"+nom[1:]\n"
   ]
  },
  {
   "cell_type": "markdown",
   "id": "f7b9e1ea-8ab1-48c1-ba75-f739b6bdf40a",
   "metadata": {},
   "source": [
    "Recorregut d'una strign (amb for) i cerca (amb while). L'operador in verifica si una cadena conté un caracter"
   ]
  },
  {
   "cell_type": "code",
   "execution_count": 30,
   "id": "e9a5aa51-fa0b-4b15-a9c5-e72788cf6e87",
   "metadata": {},
   "outputs": [
    {
     "data": {
      "text/plain": [
       "3"
      ]
     },
     "execution_count": 30,
     "metadata": {},
     "output_type": "execute_result"
    }
   ],
   "source": [
    "'o' in nom\n",
    "comptador = 0\n",
    "for char in nom:\n",
    "    if char == 'a':\n",
    "        comptador += 1\n",
    "comptador\n",
    "\n",
    "\"\"\" Cerca en una string (amb while) \"\"\"\n",
    "index=0\n",
    "while index < len(nom):\n",
    "    if nom[index] == 'n':\n",
    "        break\n",
    "    index +=1\n",
    "index"
   ]
  },
  {
   "cell_type": "markdown",
   "id": "db48322a-9d3b-4f76-8f41-79a7073b9c32",
   "metadata": {},
   "source": [
    "Alguns mètode de la classe string (els mètodes són similars a funcions\n",
    "però s'invoquen amb una sintaxi diferent. Enlloc de funcio(param), la sintaxi\n",
    "és param.metode())\n",
    "\n",
    "str.upper() - passa a majúscules\n",
    "str.find() - busca una substrign\n",
    "str.replace() - substitueix\n",
    "str.split() - divideix una strign per un separador\n",
    "str.strip() - elimina blancs al ppi i al final\n",
    "etc.\n",
    "https://docs.python.org/3/library/stdtypes.html#string-methods"
   ]
  },
  {
   "cell_type": "code",
   "execution_count": 31,
   "id": "2cd1dad1-03b4-4c85-9ca6-b5b9a2c661f4",
   "metadata": {},
   "outputs": [
    {
     "data": {
      "text/plain": [
       "2"
      ]
     },
     "execution_count": 31,
     "metadata": {},
     "output_type": "execute_result"
    }
   ],
   "source": [
    "nom.find(\"ana\")"
   ]
  },
  {
   "cell_type": "markdown",
   "id": "b89e9ecc-b1a4-4ea9-80bd-4109e4a9fcb7",
   "metadata": {},
   "source": [
    "### Llistes\n",
    "Les llistes són seqüències mutables d'elements (o items) de valors variats."
   ]
  },
  {
   "cell_type": "code",
   "execution_count": 32,
   "id": "285f6262-86ed-4ba2-86dd-5385a1296b0f",
   "metadata": {},
   "outputs": [
    {
     "name": "stdout",
     "output_type": "stream",
     "text": [
      "[]\n",
      "[]\n",
      "['H', 'o', 'l', 'a']\n",
      "['Pep', 23, [5.6, 8]]\n"
     ]
    }
   ],
   "source": [
    "buida = [] # La llista buida\n",
    "print(buida) \n",
    "\n",
    "buida = list()\n",
    "print(buida) \n",
    "\n",
    "\n",
    "s = \"Hola\"\n",
    "l = list(s)\n",
    "print(l)\n",
    "\n",
    "\n",
    "variada = [\"Pep\",23,[5.6,8]]\n",
    "len(variada)\n",
    "\n",
    "\n",
    "print(variada)"
   ]
  },
  {
   "cell_type": "markdown",
   "id": "f28b051b-2626-4ec9-ad30-c87ae9f9a037",
   "metadata": {},
   "source": [
    "Les llistes són mutables. Es a dir, el seu valor pot canviar sense que\n",
    "canvii la posició de l'objecte. La referència no canvia, però el valor si.\n",
    "La conseqüència d'això és que si una funció rep una llista i la modifica\n",
    "internament, externament també queda modificada."
   ]
  },
  {
   "cell_type": "code",
   "execution_count": 33,
   "id": "c7e84135-1a49-41b7-bff7-b394837e3697",
   "metadata": {},
   "outputs": [
    {
     "name": "stdout",
     "output_type": "stream",
     "text": [
      "4403337728\n",
      "['Pep', 25, [5.6, 8]]\n",
      "4403337728\n",
      "[1, 1, 2]\n",
      "[1, 1, 2] [1, 2] [1, 1, 2]\n"
     ]
    }
   ],
   "source": [
    "print(id(variada))\n",
    "\n",
    "variada[1]=25\n",
    "print(variada)\n",
    "\n",
    "print(id(variada))\n",
    "\n",
    "def concatena(l1,l2):\n",
    "    l1 += l2\n",
    "    print(l1)\n",
    "    return l1\n",
    "\n",
    "un = [1]\n",
    "dos = [1,2]\n",
    "tres = concatena(un,dos)\n",
    "print(un,dos,tres)\n"
   ]
  },
  {
   "cell_type": "markdown",
   "id": "2568fd50-81f2-4912-b5eb-9c782a319fb7",
   "metadata": {},
   "source": [
    "Internament la funció modifica el primer paràmetre l1, i externament la\n",
    "llista un queda modificada. Això és el pas de paràmetres per referència.\n",
    "\n",
    "Si no volem aquest efecte lateral, la solució seria evitar de modificar l1"
   ]
  },
  {
   "cell_type": "code",
   "execution_count": 34,
   "id": "fb045e9d-1dfa-4b3c-89be-1cf7486f77e9",
   "metadata": {},
   "outputs": [
    {
     "name": "stdout",
     "output_type": "stream",
     "text": [
      "[1] [1, 2] [1, 1, 2]\n"
     ]
    }
   ],
   "source": [
    "def concatena(l1,l2):\n",
    "    return l1+l2\n",
    "\n",
    "un = [1]\n",
    "dos = [1,2]\n",
    "tres = concatena(un,dos)\n",
    "print(un,dos,tres)"
   ]
  },
  {
   "cell_type": "markdown",
   "id": "ddf88ea9-b77f-499f-91dc-1d61121dcb37",
   "metadata": {},
   "source": [
    "Les llistes també admeten slices, tant per consultar subllistes com per \n",
    "modificar-ne el valor."
   ]
  },
  {
   "cell_type": "code",
   "execution_count": 35,
   "id": "7920ec02-aa6d-4014-826b-57fe1ac44d59",
   "metadata": {},
   "outputs": [
    {
     "data": {
      "text/plain": [
       "4403226560"
      ]
     },
     "execution_count": 35,
     "metadata": {},
     "output_type": "execute_result"
    }
   ],
   "source": [
    "numeros = list(range(10))\n",
    "numeros\n",
    "id(numeros)\n",
    "numeros[1:4]\n",
    "numeros[1:4]=[11,12,13]\n",
    "numeros\n",
    "id(numeros)"
   ]
  },
  {
   "cell_type": "markdown",
   "id": "0610eb19-6d59-4090-abe8-fe5fee630ed7",
   "metadata": {},
   "source": [
    "Per recorre els elements d'una llista"
   ]
  },
  {
   "cell_type": "code",
   "execution_count": 36,
   "id": "dfaad3a5-f051-4f1a-93bd-caa8f78123bb",
   "metadata": {},
   "outputs": [
    {
     "name": "stdout",
     "output_type": "stream",
     "text": [
      "0\n",
      "11\n",
      "12\n",
      "13\n",
      "4\n",
      "5\n",
      "6\n",
      "7\n",
      "8\n",
      "9\n",
      "0,11,12,13,4,5,6,7,8,9,"
     ]
    }
   ],
   "source": [
    "for ind in range(len(numeros)):\n",
    "    print(numeros[ind])\n",
    "\n",
    "\"\"\" o Una solució molt més \"pythonic\" \"\"\"\n",
    "    \n",
    "for num in numeros:\n",
    "    print(num,end=\",\") # end, per defecte, és \\n\n"
   ]
  },
  {
   "cell_type": "markdown",
   "id": "e39ab4dc-3df5-4c7c-9292-49fdddae0b52",
   "metadata": {},
   "source": [
    "L'operador + concatena i * replica"
   ]
  },
  {
   "cell_type": "code",
   "execution_count": 37,
   "id": "e0fd2cfb-5405-4aec-a3ae-46b1b7ba4971",
   "metadata": {},
   "outputs": [
    {
     "data": {
      "text/plain": [
       "[1, 2, 1, 2, 1, 2]"
      ]
     },
     "execution_count": 37,
     "metadata": {},
     "output_type": "execute_result"
    }
   ],
   "source": [
    "[1,2]*3\n"
   ]
  },
  {
   "cell_type": "markdown",
   "id": "4959fb3e-2c47-45a3-b018-4ed7e02a11c4",
   "metadata": {},
   "source": [
    "Per borrar un element d'una llista tenim 3 maneres"
   ]
  },
  {
   "cell_type": "code",
   "execution_count": 38,
   "id": "87312444-13cd-4219-8e28-36d92084857e",
   "metadata": {},
   "outputs": [
    {
     "name": "stdout",
     "output_type": "stream",
     "text": [
      "0\n",
      "[1, 2, 3, 4, 5, 6, 7, 8, 9]\n",
      "[4, 5, 6, 7, 8, 9]\n"
     ]
    },
    {
     "data": {
      "text/plain": [
       "['a', 'i', 'o', 'u']"
      ]
     },
     "execution_count": 38,
     "metadata": {},
     "output_type": "execute_result"
    }
   ],
   "source": [
    "numeros = list(range(10))\n",
    "prim = numeros.pop(0) # Retorna i esborra l'element de la posicio 0\n",
    "print(prim)\n",
    "print(numeros)\n",
    "\n",
    "numeros = list(range(10))\n",
    "del numeros[0:4]\n",
    "print(numeros)\n",
    "\n",
    "\"\"\" Si sabem l'element que volem esborrar, enlloc del seu index \"\"\"\n",
    "\n",
    "vocals = list(\"aeiou\")\n",
    "vocals.remove(\"e\")\n",
    "vocals"
   ]
  },
  {
   "cell_type": "markdown",
   "id": "322570a2-c5e3-41d5-b2bd-edb0d4ca7f82",
   "metadata": {},
   "source": [
    "Altres mètodes per treballar amb llistes:\n",
    "https://www.tutorialspoint.com/python/python_lists.htm\n",
    "https://docs.python.org/3.1/tutorial/datastructures.html"
   ]
  },
  {
   "cell_type": "code",
   "execution_count": 39,
   "id": "5bd8d88a-2c0e-49c0-855f-c745a9b7f498",
   "metadata": {},
   "outputs": [
    {
     "data": {
      "text/plain": [
       "[-3, 1, 4, 8]"
      ]
     },
     "execution_count": 39,
     "metadata": {},
     "output_type": "execute_result"
    }
   ],
   "source": [
    "\n",
    "\"\"\" Per dividir una frase en paraules. \"\"\"\n",
    "\n",
    "frase = \"Que tinguis un bon dia\"\n",
    "paraules = frase.split(\" \")\n",
    "paraules\n",
    "\n",
    "paraules[len(paraules)-1]\n",
    "\n",
    "\n",
    "\"\"\" Per tornar-les a ajuntar \"\"\"\n",
    "\n",
    "nova_frase = \" \".join(paraules)\n",
    "nova_frase\n",
    "\n",
    "\n",
    "\"\"\" Per afegir un element a una llista \"\"\"\n",
    "\n",
    "llista = [1,2]\n",
    "llista.append(3)\n",
    "llista.insert(0,0)\n",
    "llista\n",
    "\n",
    "\n",
    "\"\"\" Per ordenar \"\"\"\n",
    "\n",
    "desordre = [4,1,8,-3]\n",
    "desordre.sort()\n",
    "desordre\n"
   ]
  },
  {
   "cell_type": "markdown",
   "id": "fe1bef0d-aa8b-44e9-baae-bae04bdd1144",
   "metadata": {},
   "source": [
    "### LIST COMPREHENSION\n",
    "Es una manera resumida de crear llistes, recorrent un bucle i posant \n",
    "condicions."
   ]
  },
  {
   "cell_type": "code",
   "execution_count": 40,
   "id": "5edc7e1b-75f8-485f-bac1-d52f349fceb9",
   "metadata": {},
   "outputs": [
    {
     "data": {
      "text/plain": [
       "['Hola', 'Adeu']"
      ]
     },
     "execution_count": 40,
     "metadata": {},
     "output_type": "execute_result"
    }
   ],
   "source": [
    "\"\"\" Passar un llista de paraules a majuscula: \"\"\"\n",
    "\n",
    "paraules = [\"hola\",\"salut\",\"adeu\"]\n",
    "enmajuscula = []\n",
    "for par in paraules:\n",
    "    enmajuscula.append(par.capitalize())\n",
    "enmajuscula\n",
    "\"\"\" Es pot resumir així \"\"\"\n",
    "paraules = [\"hola\",\"salut\",\"adeu\"]\n",
    "enmajuscula = [par.capitalize() for par in paraules]\n",
    "enmajuscula\n",
    "\n",
    "\"\"\" Una variant amb condicions \"\"\"\n",
    "paraules = [\"hola\",\"salut\",\"adeu\"]\n",
    "enmajuscula = [par.capitalize() for par in paraules if par!=\"salut\"]\n",
    "enmajuscula"
   ]
  },
  {
   "cell_type": "markdown",
   "id": "81abbb45-d384-4b7b-a98d-07f993943b60",
   "metadata": {},
   "source": [
    "### Tuples\n",
    "Les tuples són seqüències d'objectes separats per commes i, eventualment,\n",
    "entre parèntesi.\n",
    "Llistes i strings tambe son seqüencies. Podem construir tuples directament\n",
    "des d'altres seqüències."
   ]
  },
  {
   "cell_type": "code",
   "execution_count": 41,
   "id": "07fb90b6-af12-42d9-9815-0d89ae9ff9ac",
   "metadata": {},
   "outputs": [
    {
     "ename": "IndexError",
     "evalue": "tuple index out of range",
     "output_type": "error",
     "traceback": [
      "\u001b[0;31m---------------------------------------------------------------------------\u001b[0m",
      "\u001b[0;31mIndexError\u001b[0m                                Traceback (most recent call last)",
      "Cell \u001b[0;32mIn[41], line 16\u001b[0m\n\u001b[1;32m     14\u001b[0m tupla[\u001b[38;5;241m0\u001b[39m]\n\u001b[1;32m     15\u001b[0m tupla[\u001b[38;5;241m2\u001b[39m]\n\u001b[0;32m---> 16\u001b[0m \u001b[43mtupla\u001b[49m\u001b[43m[\u001b[49m\u001b[38;5;241;43m3\u001b[39;49m\u001b[43m]\u001b[49m\n\u001b[1;32m     18\u001b[0m \u001b[38;5;124;03m\"\"\" slices \"\"\"\u001b[39;00m\n\u001b[1;32m     20\u001b[0m tupla[\u001b[38;5;241m1\u001b[39m:\u001b[38;5;241m3\u001b[39m]\n",
      "\u001b[0;31mIndexError\u001b[0m: tuple index out of range"
     ]
    }
   ],
   "source": [
    "tupla = (\"un\",2,[1,2,3])\n",
    "tupla\n",
    "singleton = (\"Només un element\",) # Cal incloure la coma\n",
    "len(singleton)\n",
    "\n",
    "dellista = tuple([\"a\",\"b\",3])\n",
    "dellista\n",
    "    \n",
    "destring = tuple(\"llimona\")\n",
    "destring\n",
    "\n",
    "\"\"\" Accés a un element \"\"\"\n",
    "\n",
    "tupla[0]\n",
    "tupla[2]\n",
    "tupla[3]\n",
    "\n",
    "\"\"\" slices \"\"\"\n",
    "\n",
    "tupla[1:3]\n",
    "Out: (2, [1, 2, 3])\n",
    "tupla[:1]\n",
    "Out: ('un',)\n",
    "\n",
    "\n"
   ]
  },
  {
   "cell_type": "markdown",
   "id": "1a05d786-f61d-4757-8a14-53d9c57c81e4",
   "metadata": {},
   "source": [
    "Les tuples són immutables, no es poden modificar.\n",
    "Però es poden concatenar + i replicar * (es creen tuples noves).\n"
   ]
  },
  {
   "cell_type": "code",
   "execution_count": 42,
   "id": "998f3fd0-1d8e-419a-a376-213df033633e",
   "metadata": {},
   "outputs": [
    {
     "ename": "TypeError",
     "evalue": "'tuple' object does not support item assignment",
     "output_type": "error",
     "traceback": [
      "\u001b[0;31m---------------------------------------------------------------------------\u001b[0m",
      "\u001b[0;31mTypeError\u001b[0m                                 Traceback (most recent call last)",
      "Cell \u001b[0;32mIn[42], line 3\u001b[0m\n\u001b[1;32m      1\u001b[0m \u001b[38;5;124;03m\"\"\" Intento modificar \"\"\"\u001b[39;00m\n\u001b[0;32m----> 3\u001b[0m \u001b[43mtupla\u001b[49m\u001b[43m[\u001b[49m\u001b[38;5;241;43m1\u001b[39;49m\u001b[43m]\u001b[49m\u001b[38;5;241m=\u001b[39m\u001b[38;5;241m4\u001b[39m\n\u001b[1;32m      4\u001b[0m tupla\u001b[38;5;241m.\u001b[39mappend(\u001b[38;5;241m4\u001b[39m)\n\u001b[1;32m      6\u001b[0m \u001b[38;5;124;03m\"\"\" Concateno \"\"\"\u001b[39;00m\n",
      "\u001b[0;31mTypeError\u001b[0m: 'tuple' object does not support item assignment"
     ]
    }
   ],
   "source": [
    "\"\"\" Intento modificar \"\"\"\n",
    "\n",
    "tupla[1]=4\n",
    "tupla.append(4)\n",
    "\n",
    "\"\"\" Concateno \"\"\"\n",
    "tupla + (4,)\n",
    "(1,2,3) * 2\n",
    "\n",
    "\"\"\" per borrar \"\"\"\n",
    "\n",
    "tupla2 = tupla\n",
    "tupla2\n",
    "del tupla2\n",
    "tupla2\n",
    "\n",
    "tupla\n",
    "del tupla[1]"
   ]
  },
  {
   "cell_type": "markdown",
   "id": "d8e762b8-cd9a-4c92-b33f-b30866345e56",
   "metadata": {},
   "source": [
    "A l'exemple següent la tupla no es modifica: es crea un tupla nova\n",
    "i s'assigna la seva referència a la mateixa variable."
   ]
  },
  {
   "cell_type": "code",
   "execution_count": 43,
   "id": "38ec0460-1898-4754-aa39-502d6bb19b60",
   "metadata": {},
   "outputs": [
    {
     "data": {
      "text/plain": [
       "4403362368"
      ]
     },
     "execution_count": 43,
     "metadata": {},
     "output_type": "execute_result"
    }
   ],
   "source": [
    "t= (1,2,3)\n",
    "id(t)\n",
    "t= (0,)+t[1:]\n",
    "t\n",
    "id(t)"
   ]
  },
  {
   "cell_type": "markdown",
   "id": "5175da4c-f282-49ed-9734-15bc459b672f",
   "metadata": {},
   "source": [
    " Per comparar tuples, Python comença pel primer element"
   ]
  },
  {
   "cell_type": "code",
   "execution_count": 44,
   "id": "7c6b73ed-248f-4ab8-9151-05a2eeb6ab2b",
   "metadata": {},
   "outputs": [
    {
     "data": {
      "text/plain": [
       "True"
      ]
     },
     "execution_count": 44,
     "metadata": {},
     "output_type": "execute_result"
    }
   ],
   "source": [
    "(0,2,23)<(1,0,0)"
   ]
  },
  {
   "cell_type": "markdown",
   "id": "f3cc6b37-73d4-4763-b49b-b092b6dacb22",
   "metadata": {},
   "source": [
    "Les tuples son el que permet fer assignació múltiple (en realitat, fem\n",
    "assignació entre tuples d'expressions i tuples de variables). Primer \n",
    "s'avaluen totes les expressions i després s'assignen els resultats."
   ]
  },
  {
   "cell_type": "code",
   "execution_count": 45,
   "id": "f0008293-3e96-49bf-a3f0-2dd77c013e0c",
   "metadata": {},
   "outputs": [
    {
     "data": {
      "text/plain": [
       "'un'"
      ]
     },
     "execution_count": 45,
     "metadata": {},
     "output_type": "execute_result"
    }
   ],
   "source": [
    "un, dos, tres = tupla\n",
    "un"
   ]
  },
  {
   "cell_type": "code",
   "execution_count": 46,
   "id": "4cbee848-dedf-412f-89c6-552a329156cf",
   "metadata": {},
   "outputs": [
    {
     "data": {
      "text/plain": [
       "2"
      ]
     },
     "execution_count": 46,
     "metadata": {},
     "output_type": "execute_result"
    }
   ],
   "source": [
    "(un, dos, tres) = (\"un\",2,[1,2,3])\n",
    "dos"
   ]
  },
  {
   "cell_type": "code",
   "execution_count": 47,
   "id": "52c07754-a545-40b0-829f-5c5895d099f2",
   "metadata": {},
   "outputs": [
    {
     "data": {
      "text/plain": [
       "('a', 'b', 'c')"
      ]
     },
     "execution_count": 47,
     "metadata": {},
     "output_type": "execute_result"
    }
   ],
   "source": [
    "\"\"\" També amb altres seqüències \"\"\"\n",
    "\n",
    "a, b = [3,7]\n",
    "a, b\n",
    "\n",
    "\n",
    "a, b, c = \"abc\"\n",
    "a, b, c\n",
    "\n"
   ]
  },
  {
   "cell_type": "markdown",
   "id": "5702a111-a0fc-4020-84a8-9d01a2f42c21",
   "metadata": {},
   "source": [
    "Si volem que una funcio tingui més d'un resultat\n",
    "farem que retorni una tupla."
   ]
  },
  {
   "cell_type": "code",
   "execution_count": 48,
   "id": "70e701e1-d714-4456-a4a6-edd3131f198f",
   "metadata": {},
   "outputs": [
    {
     "data": {
      "text/plain": [
       "(5, -2)"
      ]
     },
     "execution_count": 48,
     "metadata": {},
     "output_type": "execute_result"
    }
   ],
   "source": [
    "\n",
    "def max_min(llis):\n",
    "    return (max(llis),min(llis))\n",
    "\n",
    "M, m = max_min([1,5,-2,3])\n",
    "M, m"
   ]
  },
  {
   "cell_type": "markdown",
   "id": "f25a8067-02f1-49b6-9beb-30ffcc5b2bd5",
   "metadata": {},
   "source": [
    "La funcio **sorted** ordena seqüències i retorna llistes"
   ]
  },
  {
   "cell_type": "code",
   "execution_count": 49,
   "id": "4a3cd02a-b64e-4ea0-9455-dba54daf2e8e",
   "metadata": {},
   "outputs": [
    {
     "data": {
      "text/plain": [
       "[0, 1, 5]"
      ]
     },
     "execution_count": 49,
     "metadata": {},
     "output_type": "execute_result"
    }
   ],
   "source": [
    "sorted((0,5,1))"
   ]
  },
  {
   "cell_type": "markdown",
   "id": "72e92896-f7fc-40f7-91b0-2680ef3d6cc3",
   "metadata": {},
   "source": [
    "La funció **zip** agrupa per ordre els elements de diverses seqüències."
   ]
  },
  {
   "cell_type": "code",
   "execution_count": 50,
   "id": "2b4c7716-092a-4df4-851d-05bc82c1a5b0",
   "metadata": {},
   "outputs": [
    {
     "name": "stdout",
     "output_type": "stream",
     "text": [
      "1 a\n",
      "2 b\n",
      "3 c\n"
     ]
    }
   ],
   "source": [
    "for num,lletra in zip([1,2,3],[\"a\",\"b\",\"c\"]):\n",
    "    print(num,lletra)"
   ]
  },
  {
   "cell_type": "markdown",
   "id": "1304c136-2d8d-4b85-97b0-5c74018b3f1e",
   "metadata": {},
   "source": [
    "La funcio **enumerate** retorna l'index i l'element."
   ]
  },
  {
   "cell_type": "code",
   "execution_count": 51,
   "id": "d0b98e85-a9e0-4e0f-b673-fd4e29d33b5e",
   "metadata": {},
   "outputs": [
    {
     "name": "stdout",
     "output_type": "stream",
     "text": [
      "0 a\n",
      "1 b\n",
      "2 c\n"
     ]
    }
   ],
   "source": [
    "\n",
    "for index,lletra in enumerate([\"a\",\"b\",\"c\"]):\n",
    "    print(index,lletra)\n"
   ]
  },
  {
   "cell_type": "markdown",
   "id": "76b34d1f-250a-4d7d-ade2-1235b8140296",
   "metadata": {},
   "source": [
    "## MÒDULS\n",
    "\n",
    "Els mòduls són arxius que contenen funcions i/o classes (veure més endavant).\n",
    "Per tal de que l'interpret sàpiga que volem fer servir un mòdul, l'hem\n",
    "d'importar. Aquesta declaració em permet fer servir les funcions que hi ha a \n",
    "l'arxiu modul_nou, amb el prefix indicat:"
   ]
  },
  {
   "cell_type": "code",
   "execution_count": 52,
   "id": "7c063789-b1a5-41c5-b3f5-e6f4f1340b8d",
   "metadata": {},
   "outputs": [
    {
     "ename": "ModuleNotFoundError",
     "evalue": "No module named 'modul_nou'",
     "output_type": "error",
     "traceback": [
      "\u001b[0;31m---------------------------------------------------------------------------\u001b[0m",
      "\u001b[0;31mModuleNotFoundError\u001b[0m                       Traceback (most recent call last)",
      "Cell \u001b[0;32mIn[52], line 1\u001b[0m\n\u001b[0;32m----> 1\u001b[0m \u001b[38;5;28;01mimport\u001b[39;00m \u001b[38;5;21;01mmodul_nou\u001b[39;00m\n\u001b[1;32m      3\u001b[0m modul_nou\u001b[38;5;241m.\u001b[39mfuncio1()\n\u001b[1;32m      5\u001b[0m \u001b[38;5;124;03m\"\"\"o bé\"\"\"\u001b[39;00m\n",
      "\u001b[0;31mModuleNotFoundError\u001b[0m: No module named 'modul_nou'"
     ]
    }
   ],
   "source": [
    "import modul_nou\n",
    "\n",
    "modul_nou.funcio1()\n",
    "\n",
    "\"\"\"o bé\"\"\"\n",
    "\n",
    "import modul_nou as mn\n",
    "mn.funcio1()\n",
    "\n",
    "\"\"\" O si es tracta de classes (veure mes endavant), \"\"\"\n",
    "\n",
    "from un_altre_modul import Classe1\n",
    "\n",
    "objecte1 = Classe1()\n",
    "objecte1.metode1()\n"
   ]
  },
  {
   "cell_type": "markdown",
   "id": "372cacc2-1add-48b6-a6b1-d237fa466208",
   "metadata": {},
   "source": [
    "## PATH\n",
    "\n",
    "Si treballem desde Spyder o Visual Studio Code. Quan carregues un projecte l'arrel del projecte es carrega al path.\n",
    "Si carreguem un segon projecte tenim una nova entrada al path \n",
    "(no es borra l'anterior). \n",
    "De tota manera de vegades és necessari definir la variable d'entorn PYTHONPATH perquè trobi correctament els moduls. Algunes funcions que et poden ser d'utilitat:\n"
   ]
  },
  {
   "cell_type": "code",
   "execution_count": 53,
   "id": "5dc761b4-9d07-4f49-ae4f-7ced80ae2c8f",
   "metadata": {},
   "outputs": [
    {
     "ename": "NameError",
     "evalue": "name 'path_nou' is not defined",
     "output_type": "error",
     "traceback": [
      "\u001b[0;31m---------------------------------------------------------------------------\u001b[0m",
      "\u001b[0;31mNameError\u001b[0m                                 Traceback (most recent call last)",
      "Cell \u001b[0;32mIn[53], line 3\u001b[0m\n\u001b[1;32m      1\u001b[0m \u001b[38;5;28;01mimport\u001b[39;00m \u001b[38;5;21;01msys\u001b[39;00m\n\u001b[1;32m      2\u001b[0m sys\u001b[38;5;241m.\u001b[39mpath \u001b[38;5;66;03m# Mostra el path\u001b[39;00m\n\u001b[0;32m----> 3\u001b[0m sys\u001b[38;5;241m.\u001b[39mpath\u001b[38;5;241m.\u001b[39mappend(\u001b[43mpath_nou\u001b[49m) \u001b[38;5;66;03m# Afegeix path_nou al final\u001b[39;00m\n",
      "\u001b[0;31mNameError\u001b[0m: name 'path_nou' is not defined"
     ]
    }
   ],
   "source": [
    "import sys\n",
    "sys.path # Mostra el path\n",
    "sys.path.append(path_nou) # Afegeix path_nou al final\n"
   ]
  },
  {
   "cell_type": "code",
   "execution_count": 54,
   "id": "0a4d013c-614b-45c3-b719-1ad1d53b54b2",
   "metadata": {},
   "outputs": [
    {
     "data": {
      "text/plain": [
       "'/Users/montsefarreras/Documents/Docencia/ETSETB/SemPython/SemPythonMontse/DocumentacioPrivada/SolucionsReptesVSCode'"
      ]
     },
     "execution_count": 54,
     "metadata": {},
     "output_type": "execute_result"
    }
   ],
   "source": [
    "import os\n",
    "os.getcwd() # get current working directory (per obrir i tancar fitxers)\n",
    "os.chdir(\"..\") # change dir\n",
    "os.getcwd()"
   ]
  },
  {
   "cell_type": "code",
   "execution_count": null,
   "id": "fb3af9e8-66c0-4f67-b6af-faa3afd1422b",
   "metadata": {},
   "outputs": [],
   "source": []
  },
  {
   "cell_type": "code",
   "execution_count": null,
   "id": "7b7fa8f6-c627-4362-8d5e-9b61cac0d185",
   "metadata": {},
   "outputs": [],
   "source": []
  }
 ],
 "metadata": {
  "kernelspec": {
   "display_name": "Python 3 (ipykernel)",
   "language": "python",
   "name": "python3"
  },
  "language_info": {
   "codemirror_mode": {
    "name": "ipython",
    "version": 3
   },
   "file_extension": ".py",
   "mimetype": "text/x-python",
   "name": "python",
   "nbconvert_exporter": "python",
   "pygments_lexer": "ipython3",
   "version": "3.11.8"
  }
 },
 "nbformat": 4,
 "nbformat_minor": 5
}
